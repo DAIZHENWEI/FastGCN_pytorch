{
 "cells": [
  {
   "cell_type": "code",
   "execution_count": 4,
   "id": "large-compiler",
   "metadata": {},
   "outputs": [],
   "source": [
    "import numpy as np"
   ]
  },
  {
   "cell_type": "code",
   "execution_count": 13,
   "id": "modular-september",
   "metadata": {},
   "outputs": [
    {
     "data": {
      "text/plain": [
       "((0.9091804110080388+0j), (0.6598024749644646+0j))"
      ]
     },
     "execution_count": 13,
     "metadata": {},
     "output_type": "execute_result"
    }
   ],
   "source": [
    "n=3\n",
    "F = np.fft.fft(np.eye(3))\n",
    "C = np.array([[0,0,1],[0,1,0],[1,0,0]])\n",
    "x = np.random.uniform(0,1,3)\n",
    "\n",
    "np.mean(F @ C @ x),  np.mean(F @ x)"
   ]
  }
 ],
 "metadata": {
  "kernelspec": {
   "display_name": "Environment (conda_pytorch_latest_p37)",
   "language": "python",
   "name": "conda_pytorch_latest_p37"
  },
  "language_info": {
   "codemirror_mode": {
    "name": "ipython",
    "version": 3
   },
   "file_extension": ".py",
   "mimetype": "text/x-python",
   "name": "python",
   "nbconvert_exporter": "python",
   "pygments_lexer": "ipython3",
   "version": "3.7.10"
  }
 },
 "nbformat": 4,
 "nbformat_minor": 5
}
