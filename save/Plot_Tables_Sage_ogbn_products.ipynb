{
 "cells": [
  {
   "cell_type": "code",
   "execution_count": 2,
   "id": "expected-madagascar",
   "metadata": {},
   "outputs": [],
   "source": [
    "import numpy as np\n",
    "import pandas as pd\n",
    "import matplotlib.pyplot as plt"
   ]
  },
  {
   "cell_type": "markdown",
   "id": "generous-duration",
   "metadata": {},
   "source": [
    "## Ogbn-products"
   ]
  },
  {
   "cell_type": "code",
   "execution_count": 10,
   "id": "therapeutic-husband",
   "metadata": {},
   "outputs": [],
   "source": [
    "Sage_512 = np.load(\"./ogbn-products/GraphSage_accuracy_list_ogbn-products_batchsize512.npy\")\n",
    "products_acc_512 = np.max(Sage_512)\n",
    "\n",
    "\n",
    "Sage_random_003 = np.load(\"./ogbn-products/GraphSage_accuracy_list_ogbn-products_random_ratio0.003.npy\")\n",
    "Sage_laplacian_003 = np.load(\"./ogbn-products/GraphSage_accuracy_list_ogbn-products_laplacian_ratio0.003.npy\")\n",
    "Sage_degree_003 = np.load(\"./ogbn-products/GraphSage_accuracy_list_ogbn-products_degree_ratio0.003.npy\")\n",
    "Sage_kmedoid_003 = np.load(\"./ogbn-products/GraphSage_accuracy_list_ogbn-products_Kmedoid_ncluster200_PropToSdFalse_AggregateLayer2_ratio0.003.npy\")\n",
    "Sage_label_cluster_003 = np.load(\"./ogbn-products/GraphSage_accuracy_list_ogbn-products_batch_at_scale_sample_method_kmeans_cold_startFalse_redundancy60_pretrain_ratio0.001_ratio0.0005_total_ratio0.003.npy\")\n",
    "\n",
    "products_random_acc_003 = np.max(Sage_random_003)\n",
    "products_degree_acc_003 = np.max(Sage_degree_003)\n",
    "products_laplacian_acc_003 = np.max(Sage_laplacian_003)\n",
    "products_kmedoid_acc_003 = np.max(Sage_kmedoid_003)\n",
    "products_batch_at_scale_acc_003 = np.max(Sage_label_cluster_003)\n",
    "\n",
    "\n",
    "Sage_random_005 = np.load(\"./ogbn-products/GraphSage_accuracy_list_ogbn-products_random_ratio0.005.npy\")\n",
    "Sage_laplacian_005 = np.load(\"./ogbn-products/GraphSage_accuracy_list_ogbn-products_laplacian_ratio0.005.npy\")\n",
    "Sage_degree_005 = np.load(\"./ogbn-products/GraphSage_accuracy_list_ogbn-products_degree_ratio0.005.npy\")\n",
    "Sage_kmedoid_005 = np.load(\"./ogbn-products/GraphSage_accuracy_list_ogbn-products_Kmedoid_ncluster200_PropToSdFalse_AggregateLayer2_ratio0.005.npy\")\n",
    "Sage_label_cluster_005 = np.load(\"./ogbn-products/GraphSage_accuracy_list_ogbn-products_random_batch_at_scale_sample_method_kmeans_cold_startFalse_redundancy20_pretrain_ratio0.003_ratio0.0005_total_ratio0.005.npy\")\n",
    "\n",
    "products_random_acc_005 = np.max(Sage_random_005)\n",
    "products_degree_acc_005 = np.max(Sage_degree_005)\n",
    "products_laplacian_acc_005 = np.max(Sage_laplacian_005)\n",
    "products_kmedoid_acc_005 = np.max(Sage_kmedoid_005)\n",
    "products_batch_at_scale_acc_005 = np.max(Sage_label_cluster_005)\n",
    "\n",
    "\n",
    "Sage_random_006 = np.load(\"./ogbn-products/GraphSage_accuracy_list_ogbn-products_random_ratio0.006.npy\")\n",
    "Sage_laplacian_006 = np.load(\"./ogbn-products/GraphSage_accuracy_list_ogbn-products_laplacian_ratio0.006.npy\")\n",
    "Sage_degree_006 = np.load(\"./ogbn-products/GraphSage_accuracy_list_ogbn-products_degree_ratio0.006.npy\")\n",
    "Sage_kmedoid_006 = np.load(\"./ogbn-products/GraphSage_accuracy_list_ogbn-products_Kmedoid_ncluster200_PropToSdFalse_AggregateLayer2_ratio0.006.npy\")\n",
    "Sage_label_cluster_006 = np.load(\"./ogbn-products/GraphSage_accuracy_list_ogbn-products_random_batch_at_scale_sample_method_kmeans_cold_startFalse_redundancy40_pretrain_ratio0.003_ratio0.0005_total_ratio0.006.npy\")\n",
    "\n",
    "products_random_acc_006 = np.max(Sage_random_006)\n",
    "products_degree_acc_006 = np.max(Sage_degree_006)\n",
    "products_laplacian_acc_006 = np.max(Sage_laplacian_006)\n",
    "products_kmedoid_acc_006 = np.max(Sage_kmedoid_006)\n",
    "products_batch_at_scale_acc_006 = np.max(Sage_label_cluster_006)\n"
   ]
  },
  {
   "cell_type": "code",
   "execution_count": 11,
   "id": "electric-driver",
   "metadata": {},
   "outputs": [
    {
     "data": {
      "text/plain": [
       "(0.6210585, 0.62342757)"
      ]
     },
     "execution_count": 11,
     "metadata": {},
     "output_type": "execute_result"
    }
   ],
   "source": [
    "products_kmedoid_acc_003, products_batch_at_scale_acc_003"
   ]
  },
  {
   "cell_type": "code",
   "execution_count": 5,
   "id": "laden-funeral",
   "metadata": {},
   "outputs": [],
   "source": [
    "\n",
    "Sage_random_008 = np.load(\"./ogbn-products/GraphSage_accuracy_list_ogbn-products_random_ratio0.008.npy\")\n",
    "Sage_laplacian_008 = np.load(\"./ogbn-products/GraphSage_accuracy_list_ogbn-products_laplacian_ratio0.008.npy\")\n",
    "Sage_degree_008 = np.load(\"./ogbn-products/GraphSage_accuracy_list_ogbn-products_degree_ratio0.008.npy\")\n",
    "Sage_kmedoid_008 = np.load(\"./ogbn-products/GraphSage_accuracy_list_ogbn-products_Kmedoid_ncluster200_PropToSdFalse_AggregateLayer2_ratio0.008.npy\")\n",
    "Sage_label_cluster_008 = np.load(\"./ogbn-products/GraphSage_accuracy_list_ogbn-products_random_batch_at_scale_sample_method_kmeans_cold_startFalse_redundancy40_pretrain_ratio0.003_ratio0.0005_total_ratio0.008.npy\")\n",
    "\n",
    "products_random_acc_008 = np.max(Sage_random_008)\n",
    "products_degree_acc_008 = np.max(Sage_degree_008)\n",
    "products_laplacian_acc_008 = np.max(Sage_laplacian_008)\n",
    "products_kmedoid_acc_008 = np.max(Sage_kmedoid_008)\n",
    "products_batch_at_scale_acc_008 = np.max(Sage_label_cluster_008)\n",
    "\n",
    "\n",
    "\n",
    "Sage_random_01 = np.load(\"./ogbn-products/GraphSage_accuracy_list_ogbn-products_random_ratio0.01.npy\")\n",
    "Sage_laplacian_01 = np.load(\"./ogbn-products/GraphSage_accuracy_list_ogbn-products_laplacian_ratio0.01.npy\")\n",
    "Sage_degree_01 = np.load(\"./ogbn-products/GraphSage_accuracy_list_ogbn-products_degree_ratio0.01.npy\")\n",
    "Sage_kmedoid_01 = np.load(\"./ogbn-products/GraphSage_accuracy_list_ogbn-products_Kmedoid_ncluster200_PropToSdFalse_AggregateLayer2_ratio0.01.npy\")\n",
    "Sage_label_cluster_01 = np.load(\"./ogbn-products/GraphSage_accuracy_list_ogbn-products_random_batch_at_scale_sample_method_kmeans_cold_startFalse_redundancy40_pretrain_ratio0.003_ratio0.0005_total_ratio0.01.npy\")\n",
    "\n",
    "products_random_acc_01 = np.max(Sage_random_01)\n",
    "products_degree_acc_01 = np.max(Sage_degree_01)\n",
    "products_laplacian_acc_01 = np.max(Sage_laplacian_01)\n",
    "products_kmedoid_acc_01 = np.max(Sage_kmedoid_01)\n",
    "products_batch_at_scale_acc_01 = np.max(Sage_label_cluster_01)\n"
   ]
  },
  {
   "cell_type": "code",
   "execution_count": 5,
   "id": "extra-release",
   "metadata": {},
   "outputs": [
    {
     "data": {
      "text/plain": [
       "0.66797477"
      ]
     },
     "execution_count": 5,
     "metadata": {},
     "output_type": "execute_result"
    }
   ],
   "source": [
    "Sage_label_cluster_015 = np.load(\"./ogbn-products/GraphSage_accuracy_list_ogbn-products_random_batch_at_scale_sample_method_kmeans_cold_startFalse_redundancy40_pretrain_ratio0.001_ratio0.0005_total_ratio0.015.npy\")\n",
    "products_batch_at_scale_acc_015 = np.max(Sage_label_cluster_015)\n",
    "products_batch_at_scale_acc_015"
   ]
  },
  {
   "cell_type": "code",
   "execution_count": 20,
   "id": "matched-school",
   "metadata": {},
   "outputs": [
    {
     "data": {
      "image/png": "[encoded data removed]",
      "text/plain": [
       "<Figure size 432x288 with 1 Axes>"
      ]
     },
     "metadata": {
      "needs_background": "light"
     },
     "output_type": "display_data"
    },
    {
     "name": "stdout",
     "output_type": "stream",
     "text": [
      "0.6210585 0.56584704\n"
     ]
    }
   ],
   "source": [
    "plt.plot(Sage_label_cluster_01)\n",
    "plt.plot(Sage_kmedoid_01)\n",
    "plt.show()\n",
    "\n",
    "print(products_kmedoid_acc_003, products_random_acc_003)"
   ]
  },
  {
   "cell_type": "code",
   "execution_count": 17,
   "id": "interim-reporter",
   "metadata": {},
   "outputs": [
    {
     "data": {
      "text/html": [
       "<div>\n",
       "<style scoped>\n",
       "    .dataframe tbody tr th:only-of-type {\n",
       "        vertical-align: middle;\n",
       "    }\n",
       "\n",
       "    .dataframe tbody tr th {\n",
       "        vertical-align: top;\n",
       "    }\n",
       "\n",
       "    .dataframe thead th {\n",
       "        text-align: right;\n",
       "    }\n",
       "</style>\n",
       "<table border=\"1\" class=\"dataframe\">\n",
       "  <thead>\n",
       "    <tr style=\"text-align: right;\">\n",
       "      <th></th>\n",
       "      <th>Standard</th>\n",
       "      <th>Random</th>\n",
       "      <th>Degree</th>\n",
       "      <th>Laplacian</th>\n",
       "      <th>FeatProp</th>\n",
       "      <th>Uncertain+Cluster</th>\n",
       "    </tr>\n",
       "  </thead>\n",
       "  <tbody>\n",
       "    <tr>\n",
       "      <th>products, ratio=0.003</th>\n",
       "      <td>0.766</td>\n",
       "      <td>0.567</td>\n",
       "      <td>0.508</td>\n",
       "      <td>0.378</td>\n",
       "      <td>0.613</td>\n",
       "      <td>0.589</td>\n",
       "    </tr>\n",
       "    <tr>\n",
       "      <th>products, ratio=0.005</th>\n",
       "      <td>0.766</td>\n",
       "      <td>0.595</td>\n",
       "      <td>0.529</td>\n",
       "      <td>0.394</td>\n",
       "      <td>0.636</td>\n",
       "      <td>0.635</td>\n",
       "    </tr>\n",
       "    <tr>\n",
       "      <th>products, ratio=0.008</th>\n",
       "      <td>0.766</td>\n",
       "      <td>0.627</td>\n",
       "      <td>0.574</td>\n",
       "      <td>0.445</td>\n",
       "      <td>0.653</td>\n",
       "      <td>0.664</td>\n",
       "    </tr>\n",
       "    <tr>\n",
       "      <th>products, ratio=0.01</th>\n",
       "      <td>0.766</td>\n",
       "      <td>0.634</td>\n",
       "      <td>0.585</td>\n",
       "      <td>0.462</td>\n",
       "      <td>0.655</td>\n",
       "      <td>0.679</td>\n",
       "    </tr>\n",
       "  </tbody>\n",
       "</table>\n",
       "</div>"
      ],
      "text/plain": [
       "                       Standard  Random  Degree  Laplacian  FeatProp  \\\n",
       "products, ratio=0.003     0.766   0.567   0.508      0.378     0.613   \n",
       "products, ratio=0.005     0.766   0.595   0.529      0.394     0.636   \n",
       "products, ratio=0.008     0.766   0.627   0.574      0.445     0.653   \n",
       "products, ratio=0.01      0.766   0.634   0.585      0.462     0.655   \n",
       "\n",
       "                       Uncertain+Cluster  \n",
       "products, ratio=0.003              0.589  \n",
       "products, ratio=0.005              0.635  \n",
       "products, ratio=0.008              0.664  \n",
       "products, ratio=0.01               0.679  "
      ]
     },
     "execution_count": 17,
     "metadata": {},
     "output_type": "execute_result"
    }
   ],
   "source": [
    "row_0 = np.array([products_acc_512, products_random_acc_003, products_degree_acc_003, products_laplacian_acc_003, \n",
    "                  products_kmedoid_acc_003, products_batch_at_scale_acc_003])\n",
    "\n",
    "row_1 = np.array([products_acc_512, products_random_acc_005, products_degree_acc_005, products_laplacian_acc_005, \n",
    "                  products_kmedoid_acc_005, products_batch_at_scale_acc_005])\n",
    "\n",
    "row_2 = np.array([products_acc_512, products_random_acc_008, products_degree_acc_008, products_laplacian_acc_008, \n",
    "                  products_kmedoid_acc_008, products_batch_at_scale_acc_008])\n",
    "\n",
    "row_3 = np.array([products_acc_512, products_random_acc_01, products_degree_acc_01, products_laplacian_acc_01, \n",
    "                  products_kmedoid_acc_01, products_batch_at_scale_acc_01])\n",
    "# row_3 = np.array([products_acc_512, products_random_acc_10, products_degree_acc_10, products_laplacian_acc_10, \n",
    "#                   products_kmedoid_acc_10, products_Grain_ball_acc_10, products_Grain_NND_acc_10, products_batch_at_scale_acc_10])\n",
    "\n",
    "table = np.stack((row_0, row_1, row_2, row_3))\n",
    "table = np.around(table, 3)\n",
    "dataset = [\"products, ratio=0.003\", \"products, ratio=0.005\", \"products, ratio=0.008\", \"products, ratio=0.01\"]\n",
    "names = [\"Standard\", \"Random\", \"Degree\", \"Laplacian\", \"FeatProp\", \"Uncertain+Cluster\"]\n",
    "\n",
    "df = pd.DataFrame(table, columns=names, index = dataset)\n",
    "df.round(3)"
   ]
  },
  {
   "cell_type": "code",
   "execution_count": 19,
   "id": "super-sunset",
   "metadata": {},
   "outputs": [
    {
     "data": {
      "image/png": "[encoded data removed]",
      "text/plain": [
       "<Figure size 432x288 with 1 Axes>"
      ]
     },
     "metadata": {
      "needs_background": "light"
     },
     "output_type": "display_data"
    }
   ],
   "source": [
    "ratio = np.array([0.003, 0.005, 0.006, 0.008, 0.01])\n",
    "\n",
    "Random_acc = np.array([products_random_acc_003, products_random_acc_005, products_random_acc_006, products_random_acc_008, \n",
    "                       products_random_acc_01])\n",
    "Degree_acc = np.array([products_degree_acc_003, products_degree_acc_005, products_degree_acc_006, products_degree_acc_008, \n",
    "                       products_degree_acc_01])\n",
    "Laplacian_acc = np.array([products_laplacian_acc_003, products_laplacian_acc_005, products_laplacian_acc_006, \n",
    "                          products_laplacian_acc_008, products_laplacian_acc_01])\n",
    "FeatProp_acc = np.array([products_kmedoid_acc_003, products_kmedoid_acc_005, products_kmedoid_acc_006, \n",
    "                         products_kmedoid_acc_008, products_kmedoid_acc_01])\n",
    "GIDUS_acc = np.array([products_batch_at_scale_acc_003, products_batch_at_scale_acc_005, products_batch_at_scale_acc_006, \n",
    "                      products_batch_at_scale_acc_008, products_batch_at_scale_acc_01])\n",
    "\n",
    "\n",
    "index = [0, 1, 2, 3, 4]\n",
    "\n",
    "plt.plot(ratio[index], Random_acc[index], label=\"Random\", marker = \"o\", markersize=5)\n",
    "plt.plot(ratio[index], Laplacian_acc[index], label=\"Laplacian\", marker = \"o\", markersize=5)\n",
    "plt.plot(ratio[index], FeatProp_acc[index], label=\"FeatProp\", marker = \"o\", markersize=5)\n",
    "plt.plot(ratio[index], GIDUS_acc[index], label=\"ScatterSample\", marker = \"o\", markersize=5)\n",
    "plt.xlabel('Sampling Ratio', fontsize = 14)\n",
    "plt.ylabel('Test Accuracy', fontsize = 14)\n",
    "plt.xticks( fontsize=12)\n",
    "plt.yticks(fontsize=12)\n",
    "plt.legend()\n",
    "plt.savefig(\"../Figure/products_accuracy_comparison.png\")\n",
    "plt.show()"
   ]
  }
 ],
 "metadata": {
  "kernelspec": {
   "display_name": "Environment (conda_pytorch_latest_p37)",
   "language": "python",
   "name": "conda_pytorch_latest_p37"
  },
  "language_info": {
   "codemirror_mode": {
    "name": "ipython",
    "version": 3
   },
   "file_extension": ".py",
   "mimetype": "text/x-python",
   "name": "python",
   "nbconvert_exporter": "python",
   "pygments_lexer": "ipython3",
   "version": "3.7.10"
  }
 },
 "nbformat": 4,
 "nbformat_minor": 5
}
